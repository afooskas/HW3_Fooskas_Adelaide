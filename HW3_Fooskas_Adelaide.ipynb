{
 "cells": [
  {
   "cell_type": "code",
   "execution_count": 14,
   "id": "0cdcf77f",
   "metadata": {
    "scrolled": true
   },
   "outputs": [
    {
     "name": "stdout",
     "output_type": "stream",
     "text": [
      "Andy grade is 88\n",
      "average is 75.2\n"
     ]
    }
   ],
   "source": [
    "marks={'Andy': 88, 'Amy': 66, 'James': 90, 'Jules': 55, 'Arthur': 77}\n",
    "def student_grade(name):\n",
    "    if name in marks.keys(): \n",
    "        print(name, 'grade is', marks[name])\n",
    "    else:\n",
    "        print('cannot find this students name')\n",
    "    \n",
    "student_grade('Andy')\n",
    "\n",
    "#Q2\n",
    "def average(dic):\n",
    "        start=0\n",
    "        for value in dic.values():\n",
    "            start+=value\n",
    "        start=start/len(dic)\n",
    "        print('average is', start)\n",
    "average(marks)"
   ]
  },
  {
   "cell_type": "code",
   "execution_count": 5,
   "id": "627c157e",
   "metadata": {},
   "outputs": [
    {
     "name": "stdout",
     "output_type": "stream",
     "text": [
      "4\n",
      "squared 16\n",
      "16\n",
      "squared 256\n",
      "greater than 100\n"
     ]
    }
   ],
   "source": [
    "def number(n):\n",
    "    while n<num:\n",
    "        print(n)\n",
    "        n=n*n\n",
    "        print(\"squared\", n)\n",
    "    else:\n",
    "        print (\"greater than\", num)\n",
    "num=100\n",
    "number(4)"
   ]
  },
  {
   "cell_type": "code",
   "execution_count": 15,
   "id": "ad2fad51",
   "metadata": {},
   "outputs": [
    {
     "name": "stdout",
     "output_type": "stream",
     "text": [
      "36\n"
     ]
    }
   ],
   "source": [
    "def sumup(num):\n",
    "    sum=0\n",
    "    t=1  \n",
    "    while t<=num:\n",
    "        sum=sum+t\n",
    "        t=t+1\n",
    "    print(sum)\n",
    "sumup(8)"
   ]
  },
  {
   "cell_type": "code",
   "execution_count": 9,
   "id": "c7105c9a",
   "metadata": {},
   "outputs": [
    {
     "name": "stdout",
     "output_type": "stream",
     "text": [
      "0\n",
      "1\n",
      "3\n",
      "6\n",
      "10\n",
      "15\n",
      "21\n",
      "28\n",
      "36\n",
      "45\n",
      "55\n",
      "66\n",
      "78\n",
      "91\n",
      "105\n",
      "120\n",
      "136\n",
      "153\n",
      "171\n",
      "190\n",
      "210\n",
      "231\n",
      "253\n",
      "276\n",
      "300\n",
      "325\n",
      "351\n",
      "378\n",
      "406\n",
      "435\n",
      "465\n",
      "total 465\n"
     ]
    }
   ],
   "source": [
    "def sumstep(num):\n",
    "    sum=0\n",
    "    t=1\n",
    "    for t in range(num+1):\n",
    "        sum=sum+t\n",
    "        print(sum)\n",
    "        t=t+1\n",
    "    print('total',sum)\n",
    "sumstep(8)"
   ]
  },
  {
   "cell_type": "code",
   "execution_count": 7,
   "id": "246454ad",
   "metadata": {},
   "outputs": [
    {
     "name": "stdout",
     "output_type": "stream",
     "text": [
      "sum is 4950\n",
      "mean is 50.0\n",
      "standard deviation is 28.577380332470412\n"
     ]
    }
   ],
   "source": [
    "def given(st,fin):\n",
    "    for i in range(st,fin):\n",
    "        sumup = sum(range(st,fin))\n",
    "        print('sum is', sumup)\n",
    "        mean=sumup/(fin-st)\n",
    "        print('mean is', mean)\n",
    "        deviations=[(x-mean)**2 for x in range(st,fin)]\n",
    "        variance =sum(deviations)/(fin-st)\n",
    "        std=variance**(1/2)\n",
    "        print('standard deviation is', std)\n",
    "        break\n",
    "given(1,100)"
   ]
  },
  {
   "cell_type": "code",
   "execution_count": 8,
   "id": "bd89132b",
   "metadata": {},
   "outputs": [
    {
     "name": "stdout",
     "output_type": "stream",
     "text": [
      "minimal value is 0\n"
     ]
    }
   ],
   "source": [
    "def minimal(v1,v2,v3,v4):\n",
    "    if v1<v2:\n",
    "        if v1<v3:\n",
    "            if v1<v4:\n",
    "                print('minimal value is', v1)\n",
    "    \n",
    "    elif v2<v3:\n",
    "        if v2<v1:\n",
    "            if v2<v4:\n",
    "                print('minimal value is', v2)\n",
    "    elif v3<v2:\n",
    "        if v3<v1:\n",
    "            if v3<v4:\n",
    "                print('minimal value is', v3)\n",
    "    else:\n",
    "        print('minimal value is', v4)\n",
    "\n",
    "minimal(3,1,0,5)"
   ]
  },
  {
   "cell_type": "code",
   "execution_count": 13,
   "id": "3b1d1861",
   "metadata": {},
   "outputs": [
    {
     "name": "stdout",
     "output_type": "stream",
     "text": [
      "hi my name is adelaide\n"
     ]
    }
   ],
   "source": [
    "def concatenate(x,y,z):\n",
    "    full=x+y+z\n",
    "    print(full)\n",
    "str1='hi '\n",
    "str2='my name is '\n",
    "str3='adelaide'\n",
    "concatenate(str1,str2,str3)"
   ]
  }
 ],
 "metadata": {
  "kernelspec": {
   "display_name": "Python 3 (ipykernel)",
   "language": "python",
   "name": "python3"
  },
  "language_info": {
   "codemirror_mode": {
    "name": "ipython",
    "version": 3
   },
   "file_extension": ".py",
   "mimetype": "text/x-python",
   "name": "python",
   "nbconvert_exporter": "python",
   "pygments_lexer": "ipython3",
   "version": "3.9.12"
  }
 },
 "nbformat": 4,
 "nbformat_minor": 5
}
